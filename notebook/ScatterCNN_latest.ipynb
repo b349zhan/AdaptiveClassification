{
  "cells": [
    {
      "cell_type": "code",
      "source": [
        "from google.colab import drive\n",
        "drive.mount('/content/drive')"
      ],
      "metadata": {
        "id": "fZTH8artSvIi"
      },
      "id": "fZTH8artSvIi",
      "execution_count": null,
      "outputs": []
    },
    {
      "cell_type": "code",
      "source": [
        "!pip3 install kymatio"
      ],
      "metadata": {
        "id": "N0Flg0OZTDCq"
      },
      "id": "N0Flg0OZTDCq",
      "execution_count": null,
      "outputs": []
    },
    {
      "cell_type": "code",
      "execution_count": 3,
      "id": "4baacfd0",
      "metadata": {
        "id": "4baacfd0"
      },
      "outputs": [],
      "source": [
        "import torch\n",
        "import torch.nn as nn\n",
        "from torchsummary import summary\n",
        "from torchvision import datasets, transforms\n",
        "from torch.utils.data import Dataset\n",
        "from kymatio.torch import Scattering2D\n",
        "from tqdm import tqdm\n",
        "import torch.nn.functional as F\n",
        "from torch.optim.lr_scheduler import *\n",
        "import warnings\n",
        "from sklearn.mixture import GaussianMixture\n",
        "import numpy as np\n",
        "from matplotlib import pyplot as plt\n",
        "import seaborn as sns"
      ]
    },
    {
      "cell_type": "code",
      "execution_count": 4,
      "id": "f9ab1700",
      "metadata": {
        "colab": {
          "base_uri": "https://localhost:8080/"
        },
        "id": "f9ab1700",
        "outputId": "03d21b48-a44b-4297-b5ef-e0ed131af33e"
      },
      "outputs": [
        {
          "output_type": "execute_result",
          "data": {
            "text/plain": [
              "device(type='cuda')"
            ]
          },
          "metadata": {},
          "execution_count": 4
        }
      ],
      "source": [
        "device = torch.device(\"cuda\" if torch.cuda.is_available() else \"cpu\")\n",
        "device"
      ]
    },
    {
      "cell_type": "code",
      "execution_count": 5,
      "id": "e7b57bd1",
      "metadata": {
        "id": "e7b57bd1"
      },
      "outputs": [],
      "source": [
        "%run -i 'drive/MyDrive/AdaptiveClassification/models/ScatterCNN.py'\n",
        "%run -i 'drive/MyDrive/AdaptiveClassification/helper/dataUtils.py'\n",
        "%run -i 'drive/MyDrive/AdaptiveClassification/helper/modelUtils.py'"
      ]
    },
    {
      "cell_type": "markdown",
      "source": [
        "# 5/10 Hidden Classes"
      ],
      "metadata": {
        "id": "uWQDZa8VTd5K"
      },
      "id": "uWQDZa8VTd5K"
    },
    {
      "cell_type": "code",
      "execution_count": null,
      "id": "ba0fb3d9",
      "metadata": {
        "id": "ba0fb3d9"
      },
      "outputs": [],
      "source": [
        "NUM_CLASS = 10\n",
        "NUM_UNTARGET_CLASS = 5\n",
        "EPOCHS = 10\n",
        "REPLACE_LST = [5,6,7,8,9]\n",
        "tr_loss, val_loss, tr_acc, val_acc, model, scattering, replace, unlabel_features_test, unlabel_features_training, grand_truth_training, grand_truth_test, test_set = stage1_train()"
      ]
    },
    {
      "cell_type": "code",
      "source": [
        "untrain_mm, whole_mm, multi_untrain_mm, multi_whole_mm = stage2_train(model, test_set, scattering, replace)"
      ],
      "metadata": {
        "id": "o0y71m1HT7qU"
      },
      "id": "o0y71m1HT7qU",
      "execution_count": null,
      "outputs": []
    },
    {
      "cell_type": "code",
      "source": [
        "show_result(tr_loss, val_loss, tr_acc, val_acc, untrain_mm, whole_mm/1000, multi_untrain_mm, multi_whole_mm/1000)"
      ],
      "metadata": {
        "id": "r5X0NCKvT9cd"
      },
      "id": "r5X0NCKvT9cd",
      "execution_count": null,
      "outputs": []
    },
    {
      "cell_type": "markdown",
      "source": [
        "# 4/10 Hidden Classes"
      ],
      "metadata": {
        "id": "fhOQu3JVUYj1"
      },
      "id": "fhOQu3JVUYj1"
    },
    {
      "cell_type": "code",
      "execution_count": null,
      "id": "3aa0841f",
      "metadata": {
        "id": "3aa0841f"
      },
      "outputs": [],
      "source": [
        "NUM_CLASS = 10\n",
        "NUM_UNTARGET_CLASS = 4\n",
        "EPOCHS = 10\n",
        "REPLACE_LST = [6,7,8,9]\n",
        "tr_loss, val_loss, tr_acc, val_acc, model, scattering, replace, unlabel_features_test, unlabel_features_training, grand_truth_training, grand_truth_test, test_set = stage1_train()"
      ]
    },
    {
      "cell_type": "code",
      "source": [
        "untrain_mm, whole_mm, multi_untrain_mm, multi_whole_mm = stage2_train(model, test_set, scattering, replace)"
      ],
      "metadata": {
        "id": "tuDofCwtUCbv"
      },
      "id": "tuDofCwtUCbv",
      "execution_count": null,
      "outputs": []
    },
    {
      "cell_type": "code",
      "source": [
        "show_result(tr_loss, val_loss, tr_acc, val_acc, untrain_mm, whole_mm/1000, multi_untrain_mm, multi_whole_mm/1000)"
      ],
      "metadata": {
        "id": "tNfXl5zYUDlw"
      },
      "id": "tNfXl5zYUDlw",
      "execution_count": null,
      "outputs": []
    },
    {
      "cell_type": "markdown",
      "source": [
        "# 3/10 Hidden Classes"
      ],
      "metadata": {
        "id": "20v2j2R5UgiH"
      },
      "id": "20v2j2R5UgiH"
    },
    {
      "cell_type": "code",
      "source": [
        "NUM_CLASS = 10\n",
        "NUM_UNTARGET_CLASS = 3\n",
        "EPOCHS = 10\n",
        "REPLACE_LST = [7,8,9]\n",
        "tr_loss, val_loss, tr_acc, val_acc, model, scattering, replace, unlabel_features_test, unlabel_features_training, grand_truth_training, grand_truth_test, test_set = stage1_train()"
      ],
      "metadata": {
        "id": "NRa5hAcjUDmu"
      },
      "id": "NRa5hAcjUDmu",
      "execution_count": null,
      "outputs": []
    },
    {
      "cell_type": "code",
      "source": [
        "untrain_mm, whole_mm, multi_untrain_mm, multi_whole_mm = stage2_train(model, test_set, scattering, replace)"
      ],
      "metadata": {
        "id": "wh5uySA1UKYb"
      },
      "id": "wh5uySA1UKYb",
      "execution_count": null,
      "outputs": []
    },
    {
      "cell_type": "code",
      "source": [
        "show_result(tr_loss, val_loss, tr_acc, val_acc, untrain_mm, whole_mm/1000, multi_untrain_mm, multi_whole_mm/1000)"
      ],
      "metadata": {
        "id": "VLEuh6dIULuz"
      },
      "id": "VLEuh6dIULuz",
      "execution_count": null,
      "outputs": []
    }
  ],
  "metadata": {
    "kernelspec": {
      "display_name": "Python 3",
      "language": "python",
      "name": "python3"
    },
    "language_info": {
      "codemirror_mode": {
        "name": "ipython",
        "version": 3
      },
      "file_extension": ".py",
      "mimetype": "text/x-python",
      "name": "python",
      "nbconvert_exporter": "python",
      "pygments_lexer": "ipython3",
      "version": "3.8.5"
    },
    "colab": {
      "name": "ScatterCNN_latest.ipynb",
      "provenance": [],
      "collapsed_sections": []
    },
    "accelerator": "GPU"
  },
  "nbformat": 4,
  "nbformat_minor": 5
}